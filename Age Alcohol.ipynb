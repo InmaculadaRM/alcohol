{
 "cells": [
  {
   "cell_type": "markdown",
   "id": "75974aad",
   "metadata": {},
   "source": [
    "### Hospital stays due to Alcohol related conditions\n",
    "### by Age Groups\n",
    "\n",
    "This Python exercise will explore hospital stays due to alcohol-related health conditions using open data from Public Health Scotland. The data will be analyzed by age group to explore differences in the use of hospital resources by age group. This information could be used to implement prevention policies that target different age groups."
   ]
  },
  {
   "cell_type": "code",
   "execution_count": null,
   "id": "028c036e",
   "metadata": {
    "scrolled": true
   },
   "outputs": [],
   "source": [
    "import pandas as pd\n",
    "import numpy as np\n",
    "import matplotlib.pyplot as plt"
   ]
  },
  {
   "cell_type": "code",
   "execution_count": null,
   "id": "bc90699f",
   "metadata": {
    "scrolled": true
   },
   "outputs": [],
   "source": [
    "# retrieve the csv file directly from the web\n",
    "path = \"https://www.opendata.nhs.scot/dataset/c4db1692-fa02-4a1c-af4c-6039c74633ea/resource/29452b1f-a7be-4e93-9e22-dfa120c2df26/download/arhs_agegender_28_02_2023.csv\"\n",
    "raw_alcohol = pd.read_csv(path)"
   ]
  },
  {
   "cell_type": "code",
   "execution_count": null,
   "id": "6ebc08f6",
   "metadata": {},
   "outputs": [],
   "source": [
    "# explore dataset \n",
    "raw_alcohol.info()"
   ]
  },
  {
   "cell_type": "code",
   "execution_count": null,
   "id": "caae78af",
   "metadata": {},
   "outputs": [],
   "source": [
    "# Explore how many categories are in the Gender column \n",
    "pd.unique(raw_alcohol[\"Gender\"])"
   ]
  },
  {
   "cell_type": "code",
   "execution_count": null,
   "id": "182433e3",
   "metadata": {},
   "outputs": [],
   "source": [
    "# Explore how many categories are in the AgeGroup column \n",
    "pd.unique(raw_alcohol[\"AgeGroup\"])"
   ]
  },
  {
   "cell_type": "code",
   "execution_count": null,
   "id": "c4e63777",
   "metadata": {},
   "outputs": [],
   "source": [
    "# Explore how many categories are in the Condition column \n",
    "pd.unique(raw_alcohol[\"Condition\"])"
   ]
  },
  {
   "cell_type": "code",
   "execution_count": null,
   "id": "6b117088",
   "metadata": {},
   "outputs": [],
   "source": [
    "# Explore how many years we have in the FinancialYear column \n",
    "pd.unique(raw_alcohol[\"FinancialYear\"])"
   ]
  },
  {
   "cell_type": "code",
   "execution_count": null,
   "id": "777c03c5",
   "metadata": {},
   "outputs": [],
   "source": [
    "# we make a copy of the data frame to made transformations and keep our original data object \n",
    "# so, we can always check the orignal data by calling raw_alcohol\n",
    "alcohol = raw_alcohol.copy()"
   ]
  },
  {
   "cell_type": "code",
   "execution_count": null,
   "id": "9849473e",
   "metadata": {},
   "outputs": [],
   "source": [
    "#make financial year an integer type value. we use the first year of the character string.\n",
    "#use str[1] if you want the second year.\n",
    "alcohol['Year'] = alcohol['FinancialYear'].str.split('/').str[0]\n",
    "alcohol['Year'] = alcohol['Year'].astype(int)\n",
    "alcohol.head()"
   ]
  },
  {
   "cell_type": "code",
   "execution_count": null,
   "id": "f19ace90",
   "metadata": {},
   "outputs": [],
   "source": [
    "#selecting only the columns we are interested in \n",
    "alcohol_selected = alcohol[[\"Year\", \"Condition\", \"Gender\", \"AgeGroup\", \"NumberOfStays\"]]\n",
    "alcohol_selected.head()"
   ]
  },
  {
   "cell_type": "code",
   "execution_count": null,
   "id": "553f5ca8",
   "metadata": {},
   "outputs": [],
   "source": [
    "#select row with data agregated under all conditions \n",
    "alcohol_all_conditions = alcohol_selected[alcohol_selected[\"Condition\"] == \"All alcohol conditions\"]\n",
    "\n",
    "#select only male and female by eliminating rows with data aggregated as \"All\"\n",
    "alcohol_all_conditions = alcohol_all_conditions[alcohol_all_conditions[\"Gender\"] != \"All\"]\n",
    "\n",
    "#eliminate rows with data agregated by ages as \"All\"\n",
    "alcohol_all_conditions = alcohol_all_conditions[alcohol_all_conditions[\"AgeGroup\"] != \"All\"]\n",
    "\n",
    "# Replace the string \"Under 15 years\" with \"0-15 years\" in the \"AgeGroup\" column.\n",
    "alcohol_all_conditions['AgeGroup'] = alcohol_all_conditions['AgeGroup'].str.replace(\"Under 15 years\", \"0-15 years\")\n",
    "\n",
    "# see the new data frame\n",
    "alcohol_all_conditions.head(10)"
   ]
  },
  {
   "cell_type": "code",
   "execution_count": null,
   "id": "6770e529",
   "metadata": {},
   "outputs": [],
   "source": [
    "# group by AgeGroup and sum the number of stays for each of the groups\n",
    "age_stays = alcohol_all_conditions.groupby('AgeGroup').agg({'NumberOfStays': 'sum'})\n"
   ]
  },
  {
   "cell_type": "code",
   "execution_count": null,
   "id": "72dbbeb5",
   "metadata": {},
   "outputs": [],
   "source": [
    "# plotting the data in age_stays in horizontal\n",
    "plt.barh(age_stays.index, age_stays['NumberOfStays'].values)\n",
    "\n",
    "# adding labels, titles, and caption to the plot\n",
    "plt.xlabel('AgeGroup') # label for x axis\n",
    "plt.ylabel('Total Number of Stays') # label for y axis\n",
    "plt.suptitle('ALCOHOL RELATED HEALTH CONDITIONS IN SCOTLAND')\n",
    "plt.title(\"Total hospital stays by age group. Data from 1997 to 2021\")\n",
    "\n",
    "\n",
    "plt.show()"
   ]
  },
  {
   "cell_type": "code",
   "execution_count": null,
   "id": "5169c98e",
   "metadata": {},
   "outputs": [],
   "source": [
    "#The see the number: \n",
    "age_stays.head(10)\n"
   ]
  }
 ],
 "metadata": {
  "kernelspec": {
   "display_name": "Python 3 (ipykernel)",
   "language": "python",
   "name": "python3"
  },
  "language_info": {
   "codemirror_mode": {
    "name": "ipython",
    "version": 3
   },
   "file_extension": ".py",
   "mimetype": "text/x-python",
   "name": "python",
   "nbconvert_exporter": "python",
   "pygments_lexer": "ipython3",
   "version": "3.9.13"
  }
 },
 "nbformat": 4,
 "nbformat_minor": 5
}
